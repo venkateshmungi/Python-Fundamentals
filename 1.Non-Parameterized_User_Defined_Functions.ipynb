{
 "cells": [
  {
   "cell_type": "markdown",
   "id": "c1719676",
   "metadata": {},
   "source": [
    "### 1.Non-Parameterized_User_Defined_Functions"
   ]
  },
  {
   "cell_type": "markdown",
   "id": "6fb5056f",
   "metadata": {},
   "source": [
    "In Python, there are two types of user-defined functions: parameterized and non-parameterized.\n",
    "\n",
    "\n",
    "A non-parameterized user-defined function is a function that does not accept any arguments. It performs a specific task or set of statements without requiring any input from the user. These functions are useful when you want to execute a block of code that does not depend on any external data.\n",
    "\n",
    "\n",
    "Here is an example of a non-parameterized user-defined function in Python:"
   ]
  },
  {
   "cell_type": "markdown",
   "id": "ade94ddb",
   "metadata": {},
   "source": [
    "#### syntax of the Non-Parameterized_User_Defined_Functions"
   ]
  },
  {
   "cell_type": "code",
   "execution_count": 1,
   "id": "f816173e",
   "metadata": {},
   "outputs": [
    {
     "ename": "SyntaxError",
     "evalue": "incomplete input (878609395.py, line 3)",
     "output_type": "error",
     "traceback": [
      "\u001b[1;36m  Cell \u001b[1;32mIn[1], line 3\u001b[1;36m\u001b[0m\n\u001b[1;33m    # ...\u001b[0m\n\u001b[1;37m         ^\u001b[0m\n\u001b[1;31mSyntaxError\u001b[0m\u001b[1;31m:\u001b[0m incomplete input\n"
     ]
    }
   ],
   "source": [
    "def functionName():\n",
    "    # statements\n",
    "    # ..."
   ]
  },
  {
   "cell_type": "markdown",
   "id": "7f96ccbe",
   "metadata": {},
   "source": [
    "In this case, the function name is followed by an empty set of parentheses, indicating that no arguments are accepted. The body of the function contains the statements to be executed.\n",
    "\n",
    "\n",
    "Non-parameterized functions are called by simply using the function name followed by parentheses, like this: functionName()."
   ]
  },
  {
   "cell_type": "markdown",
   "id": "8b1c3617",
   "metadata": {},
   "source": [
    "#### Examples for Practiece"
   ]
  },
  {
   "cell_type": "code",
   "execution_count": 2,
   "id": "313d7289",
   "metadata": {},
   "outputs": [],
   "source": [
    "# 1. Adding sum of two numbers\n",
    "\n",
    "def sum_of_two():\n",
    "    a = int(input(\"Enter a number: \"))\n",
    "    b = int(input(\"Enter a number: \"))\n",
    "    c = a + b   \n",
    "    return c"
   ]
  },
  {
   "cell_type": "code",
   "execution_count": 3,
   "id": "b5100f19",
   "metadata": {},
   "outputs": [
    {
     "name": "stdout",
     "output_type": "stream",
     "text": [
      "Enter a number: 2\n",
      "Enter a number: 2\n"
     ]
    },
    {
     "data": {
      "text/plain": [
       "4"
      ]
     },
     "execution_count": 3,
     "metadata": {},
     "output_type": "execute_result"
    }
   ],
   "source": [
    "sum_of_two()"
   ]
  },
  {
   "cell_type": "code",
   "execution_count": 4,
   "id": "731962c0",
   "metadata": {},
   "outputs": [],
   "source": [
    "# 2. Calling one function from another\n",
    "\n",
    "def greetings():\n",
    "    print(\"Hello World1\")\n",
    "    \n",
    "def main():\n",
    "    greetings()\n",
    "    print(\"This is pyhton program !!!\")"
   ]
  },
  {
   "cell_type": "code",
   "execution_count": 5,
   "id": "115de48c",
   "metadata": {},
   "outputs": [
    {
     "name": "stdout",
     "output_type": "stream",
     "text": [
      "Hello World1\n",
      "This is pyhton program !!!\n"
     ]
    }
   ],
   "source": [
    "main()"
   ]
  },
  {
   "cell_type": "code",
   "execution_count": 6,
   "id": "eaf1c3d0",
   "metadata": {},
   "outputs": [],
   "source": [
    "# 3. Calling one function from another\n",
    "\n",
    "def multipliacation_of_two():\n",
    "    num1 = int(input(\"Enter a Positive Number: \"))\n",
    "    num2 = int(input(\"Enter a Positive Number: \"))\n",
    "    mul = num1 * num2\n",
    "    return mul \n",
    "\n",
    "def multiplication_with_above():\n",
    "    num3 = int(input(\"Enter a Positive Number: \"))\n",
    "    return num3 * mul"
   ]
  },
  {
   "cell_type": "code",
   "execution_count": 7,
   "id": "4854d2a8",
   "metadata": {},
   "outputs": [
    {
     "name": "stdout",
     "output_type": "stream",
     "text": [
      "Enter a Positive Number: 2\n"
     ]
    },
    {
     "ename": "NameError",
     "evalue": "name 'mul' is not defined",
     "output_type": "error",
     "traceback": [
      "\u001b[1;31m---------------------------------------------------------------------------\u001b[0m",
      "\u001b[1;31mNameError\u001b[0m                                 Traceback (most recent call last)",
      "Cell \u001b[1;32mIn[7], line 1\u001b[0m\n\u001b[1;32m----> 1\u001b[0m multiplication_with_above()\n",
      "Cell \u001b[1;32mIn[6], line 11\u001b[0m, in \u001b[0;36mmultiplication_with_above\u001b[1;34m()\u001b[0m\n\u001b[0;32m      9\u001b[0m \u001b[38;5;28;01mdef\u001b[39;00m \u001b[38;5;21mmultiplication_with_above\u001b[39m():\n\u001b[0;32m     10\u001b[0m     num3 \u001b[38;5;241m=\u001b[39m \u001b[38;5;28mint\u001b[39m(\u001b[38;5;28minput\u001b[39m(\u001b[38;5;124m\"\u001b[39m\u001b[38;5;124mEnter a Positive Number: \u001b[39m\u001b[38;5;124m\"\u001b[39m))\n\u001b[1;32m---> 11\u001b[0m     \u001b[38;5;28;01mreturn\u001b[39;00m num3 \u001b[38;5;241m*\u001b[39m mul\n",
      "\u001b[1;31mNameError\u001b[0m: name 'mul' is not defined"
     ]
    }
   ],
   "source": [
    "multiplication_with_above()"
   ]
  },
  {
   "cell_type": "markdown",
   "id": "7f232b5a",
   "metadata": {},
   "source": [
    "The error occurs because the variable mul is not defined within the scope of the multiplication_with_above function. The variable mul is defined and assigned a value within the multipliacation_of_two function, but it is not accessible outside of that function.\n",
    "\n",
    "\n",
    "To fix this error, you can modify the multiplication_with_above function to call the multipliacation_of_two function and store the result in a variable. Then, you can use that variable in the calculation within the multiplication_with_above function."
   ]
  },
  {
   "cell_type": "code",
   "execution_count": 8,
   "id": "27bb3978",
   "metadata": {},
   "outputs": [],
   "source": [
    "def multipliacation_of_two():\n",
    "    num1 = int(input(\"Enter a Positive Number: \"))\n",
    "    num2 = int(input(\"Enter a Positive Number: \"))\n",
    "    mul = num1 * num2\n",
    "    return mul \n",
    "\n",
    "def multiplication_with_above():\n",
    "    mul = multipliacation_of_two()  # Call the multipliacation_of_two function and store the result\n",
    "    num3 = int(input(\"Enter a Positive Number: \"))\n",
    "    return num3 * mul  # Use the stored result in the calculation"
   ]
  },
  {
   "cell_type": "code",
   "execution_count": 9,
   "id": "927dec6e",
   "metadata": {},
   "outputs": [
    {
     "name": "stdout",
     "output_type": "stream",
     "text": [
      "Enter a Positive Number: 2\n",
      "Enter a Positive Number: 5\n",
      "Enter a Positive Number: 2\n"
     ]
    },
    {
     "data": {
      "text/plain": [
       "20"
      ]
     },
     "execution_count": 9,
     "metadata": {},
     "output_type": "execute_result"
    }
   ],
   "source": [
    "multiplication_with_above()"
   ]
  },
  {
   "cell_type": "code",
   "execution_count": 14,
   "id": "0a4af653",
   "metadata": {},
   "outputs": [
    {
     "name": "stdout",
     "output_type": "stream",
     "text": [
      "Enter a Positive Number: 2\n",
      "Enter a Positive Number: 2\n",
      "Enter a Positive Number: 10\n",
      "The final result is: 40\n"
     ]
    }
   ],
   "source": [
    "def multipliacation_of_two():\n",
    "    num1 = int(input(\"Enter a Positive Number: \"))\n",
    "    num2 = int(input(\"Enter a Positive Number: \"))\n",
    "    mul = num1 * num2\n",
    "    return mul \n",
    "\n",
    "def multiplication_with_above():\n",
    "    num3 = int(input(\"Enter a Positive Number: \"))\n",
    "    return num3 * multipliacation_of_two()  # Use the returned value directly\n",
    "\n",
    "result = multiplication_with_above()\n",
    "print(\"The final result is:\", result)"
   ]
  },
  {
   "cell_type": "markdown",
   "id": "151e7f77",
   "metadata": {},
   "source": [
    "### Techniques about non parameterized userdefined functions?"
   ]
  },
  {
   "cell_type": "markdown",
   "id": "2df859e0",
   "metadata": {},
   "source": [
    "#### 1.Function Composition: \n",
    "\n",
    "You can combine multiple non-parameterized functions by calling one function from another. This allows you to break down complex tasks into smaller, reusable functions. For example:"
   ]
  },
  {
   "cell_type": "code",
   "execution_count": 1,
   "id": "53fc6f68",
   "metadata": {},
   "outputs": [],
   "source": [
    "def greet():\n",
    "    print(\"This is First ...!\")\n",
    "def wish():\n",
    "    print(\"This is Second ...!\")\n",
    "def call_above_two():\n",
    "    greet()\n",
    "    wish()\n",
    "    print(\"This is Third ...!\")"
   ]
  },
  {
   "cell_type": "code",
   "execution_count": 2,
   "id": "932c46ef",
   "metadata": {},
   "outputs": [
    {
     "name": "stdout",
     "output_type": "stream",
     "text": [
      "This is Firs ...!\n",
      "This is Second ...!\n",
      "This is Third ...!\n"
     ]
    }
   ],
   "source": [
    "call_above_two()"
   ]
  },
  {
   "cell_type": "markdown",
   "id": "2e6d470b",
   "metadata": {},
   "source": [
    "#### 2.Global Variables: \n",
    "\n",
    "You can use global variables to share data between non-parameterized functions. However, it is generally recommended to use this approach sparingly, as it can make code harder to understand and maintain. Here's an example:"
   ]
  },
  {
   "cell_type": "code",
   "execution_count": 3,
   "id": "4abc2c7c",
   "metadata": {},
   "outputs": [],
   "source": [
    "count = 0 \n",
    "\n",
    "def incriment():\n",
    "    global count\n",
    "    count += 1\n",
    "    return count\n",
    "def display():\n",
    "    global count\n",
    "    return print(\"Count:\", count)"
   ]
  },
  {
   "cell_type": "code",
   "execution_count": 4,
   "id": "6e98b358",
   "metadata": {},
   "outputs": [
    {
     "name": "stdout",
     "output_type": "stream",
     "text": [
      "Count: 1\n"
     ]
    }
   ],
   "source": [
    "incriment()\n",
    "display()"
   ]
  },
  {
   "cell_type": "markdown",
   "id": "37f20331",
   "metadata": {},
   "source": [
    "#### 3.Returning Values: \n",
    "\n",
    "Non-parameterized functions can return values that can be used in other functions. This allows you to pass data between functions without using global variables. Here's an example:"
   ]
  },
  {
   "cell_type": "code",
   "execution_count": 11,
   "id": "123532fe",
   "metadata": {},
   "outputs": [],
   "source": [
    "def sum_of_two():\n",
    "    a = 10\n",
    "    b = 20\n",
    "    sum_ = a + b\n",
    "    return sum_\n",
    "def multiply(sum_):\n",
    "    g = 5\n",
    "    return g * sum_"
   ]
  },
  {
   "cell_type": "code",
   "execution_count": 12,
   "id": "cacca191",
   "metadata": {},
   "outputs": [
    {
     "data": {
      "text/plain": [
       "30"
      ]
     },
     "execution_count": 12,
     "metadata": {},
     "output_type": "execute_result"
    }
   ],
   "source": [
    "sum_of_two()"
   ]
  },
  {
   "cell_type": "code",
   "execution_count": 13,
   "id": "ced81259",
   "metadata": {},
   "outputs": [
    {
     "ename": "NameError",
     "evalue": "name 'sum_' is not defined",
     "output_type": "error",
     "traceback": [
      "\u001b[1;31m---------------------------------------------------------------------------\u001b[0m",
      "\u001b[1;31mNameError\u001b[0m                                 Traceback (most recent call last)",
      "Cell \u001b[1;32mIn[13], line 1\u001b[0m\n\u001b[1;32m----> 1\u001b[0m multiply(sum_)\n",
      "\u001b[1;31mNameError\u001b[0m: name 'sum_' is not defined"
     ]
    }
   ],
   "source": [
    "multiply(sum_)"
   ]
  },
  {
   "cell_type": "markdown",
   "id": "029248e7",
   "metadata": {},
   "source": [
    "The error occurred in the line multiply(sum_) because the variable sum_ is not defined in the scope where the multiply function is called. In this case, sum_ is only defined within the sum_of_two function and is not accessible outside of it.\n",
    "\n",
    "\n",
    "To fix this issue, you can modify the code as follows:"
   ]
  },
  {
   "cell_type": "code",
   "execution_count": 14,
   "id": "fefd7470",
   "metadata": {},
   "outputs": [],
   "source": [
    "result = sum_of_two()"
   ]
  },
  {
   "cell_type": "code",
   "execution_count": 15,
   "id": "5258a935",
   "metadata": {},
   "outputs": [
    {
     "data": {
      "text/plain": [
       "150"
      ]
     },
     "execution_count": 15,
     "metadata": {},
     "output_type": "execute_result"
    }
   ],
   "source": [
    "multiply(result)"
   ]
  },
  {
   "cell_type": "code",
   "execution_count": null,
   "id": "524df66e",
   "metadata": {},
   "outputs": [],
   "source": []
  }
 ],
 "metadata": {
  "kernelspec": {
   "display_name": "Python 3 (ipykernel)",
   "language": "python",
   "name": "python3"
  },
  "language_info": {
   "codemirror_mode": {
    "name": "ipython",
    "version": 3
   },
   "file_extension": ".py",
   "mimetype": "text/x-python",
   "name": "python",
   "nbconvert_exporter": "python",
   "pygments_lexer": "ipython3",
   "version": "3.11.4"
  }
 },
 "nbformat": 4,
 "nbformat_minor": 5
}
